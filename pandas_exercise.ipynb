{
 "cells": [
  {
   "cell_type": "code",
   "execution_count": 2,
   "metadata": {},
   "outputs": [],
   "source": [
    "import pandas as pd \n",
    "import numpy as np\n",
    "import matplotlib.pyplot as plt"
   ]
  },
  {
   "cell_type": "markdown",
   "metadata": {},
   "source": [
    "Creating a Series by passing a list of values, letting pandas create a default integer index"
   ]
  },
  {
   "cell_type": "code",
   "execution_count": 3,
   "metadata": {},
   "outputs": [
    {
     "data": {
      "text/plain": [
       "0     1.0\n",
       "1     2.0\n",
       "2     3.0\n",
       "3     NaN\n",
       "4    45.0\n",
       "dtype: float64"
      ]
     },
     "execution_count": 3,
     "metadata": {},
     "output_type": "execute_result"
    }
   ],
   "source": [
    "seri = pd.Series([1,2,3,np.nan,45])\n",
    "seri"
   ]
  },
  {
   "cell_type": "markdown",
   "metadata": {},
   "source": [
    "Creating a DataFrameby passing a numpy array, with a datetime index and labeled columns:"
   ]
  },
  {
   "cell_type": "code",
   "execution_count": 11,
   "metadata": {},
   "outputs": [
    {
     "data": {
      "text/plain": [
       "DatetimeIndex(['2021-01-01', '2021-01-02', '2021-01-03', '2021-01-04',\n",
       "               '2021-01-05', '2021-01-06', '2021-01-07', '2021-01-08',\n",
       "               '2021-01-09', '2021-01-10'],\n",
       "              dtype='datetime64[ns]', freq='D')"
      ]
     },
     "execution_count": 11,
     "metadata": {},
     "output_type": "execute_result"
    }
   ],
   "source": [
    "dates = pd.date_range(\"20210101\", periods=10)\n",
    "dates"
   ]
  },
  {
   "cell_type": "code",
   "execution_count": 16,
   "metadata": {},
   "outputs": [
    {
     "data": {
      "text/html": [
       "<div>\n",
       "<style scoped>\n",
       "    .dataframe tbody tr th:only-of-type {\n",
       "        vertical-align: middle;\n",
       "    }\n",
       "\n",
       "    .dataframe tbody tr th {\n",
       "        vertical-align: top;\n",
       "    }\n",
       "\n",
       "    .dataframe thead th {\n",
       "        text-align: right;\n",
       "    }\n",
       "</style>\n",
       "<table border=\"1\" class=\"dataframe\">\n",
       "  <thead>\n",
       "    <tr style=\"text-align: right;\">\n",
       "      <th></th>\n",
       "      <th>a</th>\n",
       "      <th>b</th>\n",
       "      <th>c</th>\n",
       "      <th>d</th>\n",
       "    </tr>\n",
       "  </thead>\n",
       "  <tbody>\n",
       "    <tr>\n",
       "      <th>2021-01-01</th>\n",
       "      <td>-0.248532</td>\n",
       "      <td>-0.633809</td>\n",
       "      <td>0.365227</td>\n",
       "      <td>-2.241089</td>\n",
       "    </tr>\n",
       "    <tr>\n",
       "      <th>2021-01-02</th>\n",
       "      <td>-1.047581</td>\n",
       "      <td>1.161637</td>\n",
       "      <td>-0.803006</td>\n",
       "      <td>-2.093864</td>\n",
       "    </tr>\n",
       "    <tr>\n",
       "      <th>2021-01-03</th>\n",
       "      <td>-1.151396</td>\n",
       "      <td>0.575674</td>\n",
       "      <td>-0.723401</td>\n",
       "      <td>-0.487148</td>\n",
       "    </tr>\n",
       "    <tr>\n",
       "      <th>2021-01-04</th>\n",
       "      <td>-0.628977</td>\n",
       "      <td>1.176879</td>\n",
       "      <td>-0.412652</td>\n",
       "      <td>2.204962</td>\n",
       "    </tr>\n",
       "    <tr>\n",
       "      <th>2021-01-05</th>\n",
       "      <td>1.115872</td>\n",
       "      <td>1.940716</td>\n",
       "      <td>0.584026</td>\n",
       "      <td>0.259215</td>\n",
       "    </tr>\n",
       "    <tr>\n",
       "      <th>2021-01-06</th>\n",
       "      <td>0.944919</td>\n",
       "      <td>-1.035663</td>\n",
       "      <td>-0.510705</td>\n",
       "      <td>-1.078126</td>\n",
       "    </tr>\n",
       "    <tr>\n",
       "      <th>2021-01-07</th>\n",
       "      <td>-0.581449</td>\n",
       "      <td>1.246238</td>\n",
       "      <td>-0.510814</td>\n",
       "      <td>-1.517736</td>\n",
       "    </tr>\n",
       "    <tr>\n",
       "      <th>2021-01-08</th>\n",
       "      <td>1.772430</td>\n",
       "      <td>-0.427322</td>\n",
       "      <td>0.726918</td>\n",
       "      <td>-0.831456</td>\n",
       "    </tr>\n",
       "    <tr>\n",
       "      <th>2021-01-09</th>\n",
       "      <td>0.601997</td>\n",
       "      <td>-0.600356</td>\n",
       "      <td>0.700874</td>\n",
       "      <td>-0.725331</td>\n",
       "    </tr>\n",
       "    <tr>\n",
       "      <th>2021-01-10</th>\n",
       "      <td>1.728482</td>\n",
       "      <td>0.321951</td>\n",
       "      <td>1.031182</td>\n",
       "      <td>1.132890</td>\n",
       "    </tr>\n",
       "  </tbody>\n",
       "</table>\n",
       "</div>"
      ],
      "text/plain": [
       "                   a         b         c         d\n",
       "2021-01-01 -0.248532 -0.633809  0.365227 -2.241089\n",
       "2021-01-02 -1.047581  1.161637 -0.803006 -2.093864\n",
       "2021-01-03 -1.151396  0.575674 -0.723401 -0.487148\n",
       "2021-01-04 -0.628977  1.176879 -0.412652  2.204962\n",
       "2021-01-05  1.115872  1.940716  0.584026  0.259215\n",
       "2021-01-06  0.944919 -1.035663 -0.510705 -1.078126\n",
       "2021-01-07 -0.581449  1.246238 -0.510814 -1.517736\n",
       "2021-01-08  1.772430 -0.427322  0.726918 -0.831456\n",
       "2021-01-09  0.601997 -0.600356  0.700874 -0.725331\n",
       "2021-01-10  1.728482  0.321951  1.031182  1.132890"
      ]
     },
     "execution_count": 16,
     "metadata": {},
     "output_type": "execute_result"
    }
   ],
   "source": [
    "df = pd.DataFrame(np.random.randn(10,4), index=dates, columns=[\"a\",\"b\",\"c\",\"d\"]) #list('abcd') possible\n",
    "df"
   ]
  },
  {
   "cell_type": "markdown",
   "metadata": {},
   "source": [
    "Creating a DataFrame by passing a dict of objects that can be converted to series­like"
   ]
  },
  {
   "cell_type": "code",
   "execution_count": 24,
   "metadata": {},
   "outputs": [
    {
     "data": {
      "text/html": [
       "<div>\n",
       "<style scoped>\n",
       "    .dataframe tbody tr th:only-of-type {\n",
       "        vertical-align: middle;\n",
       "    }\n",
       "\n",
       "    .dataframe tbody tr th {\n",
       "        vertical-align: top;\n",
       "    }\n",
       "\n",
       "    .dataframe thead th {\n",
       "        text-align: right;\n",
       "    }\n",
       "</style>\n",
       "<table border=\"1\" class=\"dataframe\">\n",
       "  <thead>\n",
       "    <tr style=\"text-align: right;\">\n",
       "      <th></th>\n",
       "      <th>a</th>\n",
       "      <th>b</th>\n",
       "      <th>c</th>\n",
       "      <th>d</th>\n",
       "      <th>e</th>\n",
       "      <th>f</th>\n",
       "    </tr>\n",
       "  </thead>\n",
       "  <tbody>\n",
       "    <tr>\n",
       "      <th>0</th>\n",
       "      <td>12</td>\n",
       "      <td>2020-12-01</td>\n",
       "      <td>1.0</td>\n",
       "      <td>3</td>\n",
       "      <td>test</td>\n",
       "      <td>foo</td>\n",
       "    </tr>\n",
       "    <tr>\n",
       "      <th>1</th>\n",
       "      <td>12</td>\n",
       "      <td>2020-12-01</td>\n",
       "      <td>1.0</td>\n",
       "      <td>3</td>\n",
       "      <td>train</td>\n",
       "      <td>foo</td>\n",
       "    </tr>\n",
       "    <tr>\n",
       "      <th>2</th>\n",
       "      <td>12</td>\n",
       "      <td>2020-12-01</td>\n",
       "      <td>1.0</td>\n",
       "      <td>3</td>\n",
       "      <td>test</td>\n",
       "      <td>foo</td>\n",
       "    </tr>\n",
       "    <tr>\n",
       "      <th>3</th>\n",
       "      <td>12</td>\n",
       "      <td>2020-12-01</td>\n",
       "      <td>1.0</td>\n",
       "      <td>3</td>\n",
       "      <td>train</td>\n",
       "      <td>foo</td>\n",
       "    </tr>\n",
       "  </tbody>\n",
       "</table>\n",
       "</div>"
      ],
      "text/plain": [
       "    a          b    c  d      e    f\n",
       "0  12 2020-12-01  1.0  3   test  foo\n",
       "1  12 2020-12-01  1.0  3  train  foo\n",
       "2  12 2020-12-01  1.0  3   test  foo\n",
       "3  12 2020-12-01  1.0  3  train  foo"
      ]
     },
     "execution_count": 24,
     "metadata": {},
     "output_type": "execute_result"
    }
   ],
   "source": [
    "df2 = pd.DataFrame({\n",
    "    \"a\" : 12,\n",
    "    \"b\" : pd.Timestamp(\"20201201\"),\n",
    "    \"c\" : pd.Series(1, index=list(range(4)), dtype=float ),\n",
    "    \"d\" : np.array([3] * 4, dtype=\"int32\"),\n",
    "    \"e\" : pd.Categorical([\"test\", \"train\"]*2),\n",
    "    \"f\" : \"foo\"\n",
    "})\n",
    "df2"
   ]
  },
  {
   "cell_type": "code",
   "execution_count": 25,
   "metadata": {},
   "outputs": [
    {
     "data": {
      "text/plain": [
       "a             int64\n",
       "b    datetime64[ns]\n",
       "c           float64\n",
       "d             int32\n",
       "e          category\n",
       "f            object\n",
       "dtype: object"
      ]
     },
     "execution_count": 25,
     "metadata": {},
     "output_type": "execute_result"
    }
   ],
   "source": [
    "df2.dtypes"
   ]
  },
  {
   "cell_type": "code",
   "execution_count": 28,
   "metadata": {},
   "outputs": [
    {
     "data": {
      "text/plain": [
       "0   2020-12-01\n",
       "1   2020-12-01\n",
       "2   2020-12-01\n",
       "3   2020-12-01\n",
       "Name: b, dtype: datetime64[ns]"
      ]
     },
     "execution_count": 28,
     "metadata": {},
     "output_type": "execute_result"
    }
   ],
   "source": [
    "df2.b"
   ]
  },
  {
   "cell_type": "code",
   "execution_count": 31,
   "metadata": {},
   "outputs": [
    {
     "data": {
      "text/plain": [
       "DatetimeIndex(['2021-01-01', '2021-01-02', '2021-01-03', '2021-01-04',\n",
       "               '2021-01-05', '2021-01-06', '2021-01-07', '2021-01-08',\n",
       "               '2021-01-09', '2021-01-10'],\n",
       "              dtype='datetime64[ns]', freq='D')"
      ]
     },
     "execution_count": 31,
     "metadata": {},
     "output_type": "execute_result"
    }
   ],
   "source": [
    "df.index"
   ]
  },
  {
   "cell_type": "code",
   "execution_count": 32,
   "metadata": {},
   "outputs": [
    {
     "data": {
      "text/plain": [
       "Index(['a', 'b', 'c', 'd'], dtype='object')"
      ]
     },
     "execution_count": 32,
     "metadata": {},
     "output_type": "execute_result"
    }
   ],
   "source": [
    "df.columns"
   ]
  },
  {
   "cell_type": "code",
   "execution_count": 33,
   "metadata": {},
   "outputs": [
    {
     "data": {
      "text/plain": [
       "array([[-0.24853179, -0.63380923,  0.36522685, -2.24108911],\n",
       "       [-1.04758114,  1.16163672, -0.80300609, -2.0938644 ],\n",
       "       [-1.15139608,  0.57567368, -0.72340056, -0.4871477 ],\n",
       "       [-0.62897748,  1.17687869, -0.41265173,  2.20496219],\n",
       "       [ 1.11587208,  1.94071591,  0.58402557,  0.25921499],\n",
       "       [ 0.94491853, -1.03566334, -0.51070505, -1.07812627],\n",
       "       [-0.58144915,  1.24623828, -0.51081397, -1.51773565],\n",
       "       [ 1.77242963, -0.42732231,  0.72691761, -0.8314562 ],\n",
       "       [ 0.60199719, -0.60035598,  0.70087449, -0.72533091],\n",
       "       [ 1.72848153,  0.32195097,  1.03118161,  1.1328903 ]])"
      ]
     },
     "execution_count": 33,
     "metadata": {},
     "output_type": "execute_result"
    }
   ],
   "source": [
    "df.values"
   ]
  },
  {
   "cell_type": "code",
   "execution_count": 34,
   "metadata": {},
   "outputs": [
    {
     "data": {
      "text/html": [
       "<div>\n",
       "<style scoped>\n",
       "    .dataframe tbody tr th:only-of-type {\n",
       "        vertical-align: middle;\n",
       "    }\n",
       "\n",
       "    .dataframe tbody tr th {\n",
       "        vertical-align: top;\n",
       "    }\n",
       "\n",
       "    .dataframe thead th {\n",
       "        text-align: right;\n",
       "    }\n",
       "</style>\n",
       "<table border=\"1\" class=\"dataframe\">\n",
       "  <thead>\n",
       "    <tr style=\"text-align: right;\">\n",
       "      <th></th>\n",
       "      <th>a</th>\n",
       "      <th>b</th>\n",
       "      <th>c</th>\n",
       "      <th>d</th>\n",
       "    </tr>\n",
       "  </thead>\n",
       "  <tbody>\n",
       "    <tr>\n",
       "      <th>count</th>\n",
       "      <td>10.000000</td>\n",
       "      <td>10.000000</td>\n",
       "      <td>10.000000</td>\n",
       "      <td>10.000000</td>\n",
       "    </tr>\n",
       "    <tr>\n",
       "      <th>mean</th>\n",
       "      <td>0.250576</td>\n",
       "      <td>0.372594</td>\n",
       "      <td>0.044765</td>\n",
       "      <td>-0.537768</td>\n",
       "    </tr>\n",
       "    <tr>\n",
       "      <th>std</th>\n",
       "      <td>1.116558</td>\n",
       "      <td>1.006538</td>\n",
       "      <td>0.699013</td>\n",
       "      <td>1.400314</td>\n",
       "    </tr>\n",
       "    <tr>\n",
       "      <th>min</th>\n",
       "      <td>-1.151396</td>\n",
       "      <td>-1.035663</td>\n",
       "      <td>-0.803006</td>\n",
       "      <td>-2.241089</td>\n",
       "    </tr>\n",
       "    <tr>\n",
       "      <th>25%</th>\n",
       "      <td>-0.617095</td>\n",
       "      <td>-0.557098</td>\n",
       "      <td>-0.510787</td>\n",
       "      <td>-1.407833</td>\n",
       "    </tr>\n",
       "    <tr>\n",
       "      <th>50%</th>\n",
       "      <td>0.176733</td>\n",
       "      <td>0.448812</td>\n",
       "      <td>-0.023712</td>\n",
       "      <td>-0.778394</td>\n",
       "    </tr>\n",
       "    <tr>\n",
       "      <th>75%</th>\n",
       "      <td>1.073134</td>\n",
       "      <td>1.173068</td>\n",
       "      <td>0.671662</td>\n",
       "      <td>0.072624</td>\n",
       "    </tr>\n",
       "    <tr>\n",
       "      <th>max</th>\n",
       "      <td>1.772430</td>\n",
       "      <td>1.940716</td>\n",
       "      <td>1.031182</td>\n",
       "      <td>2.204962</td>\n",
       "    </tr>\n",
       "  </tbody>\n",
       "</table>\n",
       "</div>"
      ],
      "text/plain": [
       "               a          b          c          d\n",
       "count  10.000000  10.000000  10.000000  10.000000\n",
       "mean    0.250576   0.372594   0.044765  -0.537768\n",
       "std     1.116558   1.006538   0.699013   1.400314\n",
       "min    -1.151396  -1.035663  -0.803006  -2.241089\n",
       "25%    -0.617095  -0.557098  -0.510787  -1.407833\n",
       "50%     0.176733   0.448812  -0.023712  -0.778394\n",
       "75%     1.073134   1.173068   0.671662   0.072624\n",
       "max     1.772430   1.940716   1.031182   2.204962"
      ]
     },
     "execution_count": 34,
     "metadata": {},
     "output_type": "execute_result"
    }
   ],
   "source": [
    "df.describe()"
   ]
  },
  {
   "cell_type": "code",
   "execution_count": 35,
   "metadata": {},
   "outputs": [
    {
     "data": {
      "text/html": [
       "<div>\n",
       "<style scoped>\n",
       "    .dataframe tbody tr th:only-of-type {\n",
       "        vertical-align: middle;\n",
       "    }\n",
       "\n",
       "    .dataframe tbody tr th {\n",
       "        vertical-align: top;\n",
       "    }\n",
       "\n",
       "    .dataframe thead th {\n",
       "        text-align: right;\n",
       "    }\n",
       "</style>\n",
       "<table border=\"1\" class=\"dataframe\">\n",
       "  <thead>\n",
       "    <tr style=\"text-align: right;\">\n",
       "      <th></th>\n",
       "      <th>2021-01-01 00:00:00</th>\n",
       "      <th>2021-01-02 00:00:00</th>\n",
       "      <th>2021-01-03 00:00:00</th>\n",
       "      <th>2021-01-04 00:00:00</th>\n",
       "      <th>2021-01-05 00:00:00</th>\n",
       "      <th>2021-01-06 00:00:00</th>\n",
       "      <th>2021-01-07 00:00:00</th>\n",
       "      <th>2021-01-08 00:00:00</th>\n",
       "      <th>2021-01-09 00:00:00</th>\n",
       "      <th>2021-01-10 00:00:00</th>\n",
       "    </tr>\n",
       "  </thead>\n",
       "  <tbody>\n",
       "    <tr>\n",
       "      <th>a</th>\n",
       "      <td>-0.248532</td>\n",
       "      <td>-1.047581</td>\n",
       "      <td>-1.151396</td>\n",
       "      <td>-0.628977</td>\n",
       "      <td>1.115872</td>\n",
       "      <td>0.944919</td>\n",
       "      <td>-0.581449</td>\n",
       "      <td>1.772430</td>\n",
       "      <td>0.601997</td>\n",
       "      <td>1.728482</td>\n",
       "    </tr>\n",
       "    <tr>\n",
       "      <th>b</th>\n",
       "      <td>-0.633809</td>\n",
       "      <td>1.161637</td>\n",
       "      <td>0.575674</td>\n",
       "      <td>1.176879</td>\n",
       "      <td>1.940716</td>\n",
       "      <td>-1.035663</td>\n",
       "      <td>1.246238</td>\n",
       "      <td>-0.427322</td>\n",
       "      <td>-0.600356</td>\n",
       "      <td>0.321951</td>\n",
       "    </tr>\n",
       "    <tr>\n",
       "      <th>c</th>\n",
       "      <td>0.365227</td>\n",
       "      <td>-0.803006</td>\n",
       "      <td>-0.723401</td>\n",
       "      <td>-0.412652</td>\n",
       "      <td>0.584026</td>\n",
       "      <td>-0.510705</td>\n",
       "      <td>-0.510814</td>\n",
       "      <td>0.726918</td>\n",
       "      <td>0.700874</td>\n",
       "      <td>1.031182</td>\n",
       "    </tr>\n",
       "    <tr>\n",
       "      <th>d</th>\n",
       "      <td>-2.241089</td>\n",
       "      <td>-2.093864</td>\n",
       "      <td>-0.487148</td>\n",
       "      <td>2.204962</td>\n",
       "      <td>0.259215</td>\n",
       "      <td>-1.078126</td>\n",
       "      <td>-1.517736</td>\n",
       "      <td>-0.831456</td>\n",
       "      <td>-0.725331</td>\n",
       "      <td>1.132890</td>\n",
       "    </tr>\n",
       "  </tbody>\n",
       "</table>\n",
       "</div>"
      ],
      "text/plain": [
       "   2021-01-01  2021-01-02  2021-01-03  2021-01-04  2021-01-05  2021-01-06  \\\n",
       "a   -0.248532   -1.047581   -1.151396   -0.628977    1.115872    0.944919   \n",
       "b   -0.633809    1.161637    0.575674    1.176879    1.940716   -1.035663   \n",
       "c    0.365227   -0.803006   -0.723401   -0.412652    0.584026   -0.510705   \n",
       "d   -2.241089   -2.093864   -0.487148    2.204962    0.259215   -1.078126   \n",
       "\n",
       "   2021-01-07  2021-01-08  2021-01-09  2021-01-10  \n",
       "a   -0.581449    1.772430    0.601997    1.728482  \n",
       "b    1.246238   -0.427322   -0.600356    0.321951  \n",
       "c   -0.510814    0.726918    0.700874    1.031182  \n",
       "d   -1.517736   -0.831456   -0.725331    1.132890  "
      ]
     },
     "execution_count": 35,
     "metadata": {},
     "output_type": "execute_result"
    }
   ],
   "source": [
    "df.T"
   ]
  },
  {
   "cell_type": "code",
   "execution_count": 36,
   "metadata": {},
   "outputs": [
    {
     "data": {
      "text/html": [
       "<div>\n",
       "<style scoped>\n",
       "    .dataframe tbody tr th:only-of-type {\n",
       "        vertical-align: middle;\n",
       "    }\n",
       "\n",
       "    .dataframe tbody tr th {\n",
       "        vertical-align: top;\n",
       "    }\n",
       "\n",
       "    .dataframe thead th {\n",
       "        text-align: right;\n",
       "    }\n",
       "</style>\n",
       "<table border=\"1\" class=\"dataframe\">\n",
       "  <thead>\n",
       "    <tr style=\"text-align: right;\">\n",
       "      <th></th>\n",
       "      <th>a</th>\n",
       "      <th>b</th>\n",
       "      <th>c</th>\n",
       "      <th>d</th>\n",
       "    </tr>\n",
       "  </thead>\n",
       "  <tbody>\n",
       "    <tr>\n",
       "      <th>2021-01-02</th>\n",
       "      <td>-1.047581</td>\n",
       "      <td>1.161637</td>\n",
       "      <td>-0.803006</td>\n",
       "      <td>-2.093864</td>\n",
       "    </tr>\n",
       "    <tr>\n",
       "      <th>2021-01-03</th>\n",
       "      <td>-1.151396</td>\n",
       "      <td>0.575674</td>\n",
       "      <td>-0.723401</td>\n",
       "      <td>-0.487148</td>\n",
       "    </tr>\n",
       "    <tr>\n",
       "      <th>2021-01-07</th>\n",
       "      <td>-0.581449</td>\n",
       "      <td>1.246238</td>\n",
       "      <td>-0.510814</td>\n",
       "      <td>-1.517736</td>\n",
       "    </tr>\n",
       "    <tr>\n",
       "      <th>2021-01-06</th>\n",
       "      <td>0.944919</td>\n",
       "      <td>-1.035663</td>\n",
       "      <td>-0.510705</td>\n",
       "      <td>-1.078126</td>\n",
       "    </tr>\n",
       "    <tr>\n",
       "      <th>2021-01-04</th>\n",
       "      <td>-0.628977</td>\n",
       "      <td>1.176879</td>\n",
       "      <td>-0.412652</td>\n",
       "      <td>2.204962</td>\n",
       "    </tr>\n",
       "    <tr>\n",
       "      <th>2021-01-01</th>\n",
       "      <td>-0.248532</td>\n",
       "      <td>-0.633809</td>\n",
       "      <td>0.365227</td>\n",
       "      <td>-2.241089</td>\n",
       "    </tr>\n",
       "    <tr>\n",
       "      <th>2021-01-05</th>\n",
       "      <td>1.115872</td>\n",
       "      <td>1.940716</td>\n",
       "      <td>0.584026</td>\n",
       "      <td>0.259215</td>\n",
       "    </tr>\n",
       "    <tr>\n",
       "      <th>2021-01-09</th>\n",
       "      <td>0.601997</td>\n",
       "      <td>-0.600356</td>\n",
       "      <td>0.700874</td>\n",
       "      <td>-0.725331</td>\n",
       "    </tr>\n",
       "    <tr>\n",
       "      <th>2021-01-08</th>\n",
       "      <td>1.772430</td>\n",
       "      <td>-0.427322</td>\n",
       "      <td>0.726918</td>\n",
       "      <td>-0.831456</td>\n",
       "    </tr>\n",
       "    <tr>\n",
       "      <th>2021-01-10</th>\n",
       "      <td>1.728482</td>\n",
       "      <td>0.321951</td>\n",
       "      <td>1.031182</td>\n",
       "      <td>1.132890</td>\n",
       "    </tr>\n",
       "  </tbody>\n",
       "</table>\n",
       "</div>"
      ],
      "text/plain": [
       "                   a         b         c         d\n",
       "2021-01-02 -1.047581  1.161637 -0.803006 -2.093864\n",
       "2021-01-03 -1.151396  0.575674 -0.723401 -0.487148\n",
       "2021-01-07 -0.581449  1.246238 -0.510814 -1.517736\n",
       "2021-01-06  0.944919 -1.035663 -0.510705 -1.078126\n",
       "2021-01-04 -0.628977  1.176879 -0.412652  2.204962\n",
       "2021-01-01 -0.248532 -0.633809  0.365227 -2.241089\n",
       "2021-01-05  1.115872  1.940716  0.584026  0.259215\n",
       "2021-01-09  0.601997 -0.600356  0.700874 -0.725331\n",
       "2021-01-08  1.772430 -0.427322  0.726918 -0.831456\n",
       "2021-01-10  1.728482  0.321951  1.031182  1.132890"
      ]
     },
     "execution_count": 36,
     "metadata": {},
     "output_type": "execute_result"
    }
   ],
   "source": [
    "df.sort_values(by=\"c\")"
   ]
  },
  {
   "cell_type": "code",
   "execution_count": 37,
   "metadata": {},
   "outputs": [
    {
     "data": {
      "text/plain": [
       "2021-01-01   -0.248532\n",
       "2021-01-02   -1.047581\n",
       "2021-01-03   -1.151396\n",
       "2021-01-04   -0.628977\n",
       "2021-01-05    1.115872\n",
       "2021-01-06    0.944919\n",
       "2021-01-07   -0.581449\n",
       "2021-01-08    1.772430\n",
       "2021-01-09    0.601997\n",
       "2021-01-10    1.728482\n",
       "Freq: D, Name: a, dtype: float64"
      ]
     },
     "execution_count": 37,
     "metadata": {},
     "output_type": "execute_result"
    }
   ],
   "source": [
    "df.a"
   ]
  },
  {
   "cell_type": "code",
   "execution_count": 38,
   "metadata": {},
   "outputs": [
    {
     "data": {
      "text/plain": [
       "2021-01-01   -0.248532\n",
       "2021-01-02   -1.047581\n",
       "2021-01-03   -1.151396\n",
       "2021-01-04   -0.628977\n",
       "2021-01-05    1.115872\n",
       "2021-01-06    0.944919\n",
       "2021-01-07   -0.581449\n",
       "2021-01-08    1.772430\n",
       "2021-01-09    0.601997\n",
       "2021-01-10    1.728482\n",
       "Freq: D, Name: a, dtype: float64"
      ]
     },
     "execution_count": 38,
     "metadata": {},
     "output_type": "execute_result"
    }
   ],
   "source": [
    "df[\"a\"]"
   ]
  },
  {
   "cell_type": "code",
   "execution_count": 39,
   "metadata": {},
   "outputs": [
    {
     "data": {
      "text/html": [
       "<div>\n",
       "<style scoped>\n",
       "    .dataframe tbody tr th:only-of-type {\n",
       "        vertical-align: middle;\n",
       "    }\n",
       "\n",
       "    .dataframe tbody tr th {\n",
       "        vertical-align: top;\n",
       "    }\n",
       "\n",
       "    .dataframe thead th {\n",
       "        text-align: right;\n",
       "    }\n",
       "</style>\n",
       "<table border=\"1\" class=\"dataframe\">\n",
       "  <thead>\n",
       "    <tr style=\"text-align: right;\">\n",
       "      <th></th>\n",
       "      <th>a</th>\n",
       "      <th>b</th>\n",
       "      <th>c</th>\n",
       "      <th>d</th>\n",
       "    </tr>\n",
       "  </thead>\n",
       "  <tbody>\n",
       "    <tr>\n",
       "      <th>2021-01-01</th>\n",
       "      <td>-0.248532</td>\n",
       "      <td>-0.633809</td>\n",
       "      <td>0.365227</td>\n",
       "      <td>-2.241089</td>\n",
       "    </tr>\n",
       "    <tr>\n",
       "      <th>2021-01-02</th>\n",
       "      <td>-1.047581</td>\n",
       "      <td>1.161637</td>\n",
       "      <td>-0.803006</td>\n",
       "      <td>-2.093864</td>\n",
       "    </tr>\n",
       "    <tr>\n",
       "      <th>2021-01-03</th>\n",
       "      <td>-1.151396</td>\n",
       "      <td>0.575674</td>\n",
       "      <td>-0.723401</td>\n",
       "      <td>-0.487148</td>\n",
       "    </tr>\n",
       "    <tr>\n",
       "      <th>2021-01-04</th>\n",
       "      <td>-0.628977</td>\n",
       "      <td>1.176879</td>\n",
       "      <td>-0.412652</td>\n",
       "      <td>2.204962</td>\n",
       "    </tr>\n",
       "  </tbody>\n",
       "</table>\n",
       "</div>"
      ],
      "text/plain": [
       "                   a         b         c         d\n",
       "2021-01-01 -0.248532 -0.633809  0.365227 -2.241089\n",
       "2021-01-02 -1.047581  1.161637 -0.803006 -2.093864\n",
       "2021-01-03 -1.151396  0.575674 -0.723401 -0.487148\n",
       "2021-01-04 -0.628977  1.176879 -0.412652  2.204962"
      ]
     },
     "execution_count": 39,
     "metadata": {},
     "output_type": "execute_result"
    }
   ],
   "source": [
    "df[0:4]"
   ]
  },
  {
   "cell_type": "code",
   "execution_count": 40,
   "metadata": {},
   "outputs": [
    {
     "data": {
      "text/html": [
       "<div>\n",
       "<style scoped>\n",
       "    .dataframe tbody tr th:only-of-type {\n",
       "        vertical-align: middle;\n",
       "    }\n",
       "\n",
       "    .dataframe tbody tr th {\n",
       "        vertical-align: top;\n",
       "    }\n",
       "\n",
       "    .dataframe thead th {\n",
       "        text-align: right;\n",
       "    }\n",
       "</style>\n",
       "<table border=\"1\" class=\"dataframe\">\n",
       "  <thead>\n",
       "    <tr style=\"text-align: right;\">\n",
       "      <th></th>\n",
       "      <th>a</th>\n",
       "      <th>b</th>\n",
       "      <th>c</th>\n",
       "      <th>d</th>\n",
       "    </tr>\n",
       "  </thead>\n",
       "  <tbody>\n",
       "    <tr>\n",
       "      <th>2021-01-02</th>\n",
       "      <td>-1.047581</td>\n",
       "      <td>1.161637</td>\n",
       "      <td>-0.803006</td>\n",
       "      <td>-2.093864</td>\n",
       "    </tr>\n",
       "    <tr>\n",
       "      <th>2021-01-03</th>\n",
       "      <td>-1.151396</td>\n",
       "      <td>0.575674</td>\n",
       "      <td>-0.723401</td>\n",
       "      <td>-0.487148</td>\n",
       "    </tr>\n",
       "    <tr>\n",
       "      <th>2021-01-04</th>\n",
       "      <td>-0.628977</td>\n",
       "      <td>1.176879</td>\n",
       "      <td>-0.412652</td>\n",
       "      <td>2.204962</td>\n",
       "    </tr>\n",
       "    <tr>\n",
       "      <th>2021-01-05</th>\n",
       "      <td>1.115872</td>\n",
       "      <td>1.940716</td>\n",
       "      <td>0.584026</td>\n",
       "      <td>0.259215</td>\n",
       "    </tr>\n",
       "    <tr>\n",
       "      <th>2021-01-06</th>\n",
       "      <td>0.944919</td>\n",
       "      <td>-1.035663</td>\n",
       "      <td>-0.510705</td>\n",
       "      <td>-1.078126</td>\n",
       "    </tr>\n",
       "    <tr>\n",
       "      <th>2021-01-07</th>\n",
       "      <td>-0.581449</td>\n",
       "      <td>1.246238</td>\n",
       "      <td>-0.510814</td>\n",
       "      <td>-1.517736</td>\n",
       "    </tr>\n",
       "  </tbody>\n",
       "</table>\n",
       "</div>"
      ],
      "text/plain": [
       "                   a         b         c         d\n",
       "2021-01-02 -1.047581  1.161637 -0.803006 -2.093864\n",
       "2021-01-03 -1.151396  0.575674 -0.723401 -0.487148\n",
       "2021-01-04 -0.628977  1.176879 -0.412652  2.204962\n",
       "2021-01-05  1.115872  1.940716  0.584026  0.259215\n",
       "2021-01-06  0.944919 -1.035663 -0.510705 -1.078126\n",
       "2021-01-07 -0.581449  1.246238 -0.510814 -1.517736"
      ]
     },
     "execution_count": 40,
     "metadata": {},
     "output_type": "execute_result"
    }
   ],
   "source": [
    "df[\"20210102\":\"20210107\"]"
   ]
  },
  {
   "cell_type": "code",
   "execution_count": 41,
   "metadata": {},
   "outputs": [
    {
     "data": {
      "text/plain": [
       "a   -0.248532\n",
       "b   -0.633809\n",
       "c    0.365227\n",
       "d   -2.241089\n",
       "Name: 2021-01-01 00:00:00, dtype: float64"
      ]
     },
     "execution_count": 41,
     "metadata": {},
     "output_type": "execute_result"
    }
   ],
   "source": [
    "df.loc[dates[0]]"
   ]
  },
  {
   "cell_type": "code",
   "execution_count": 42,
   "metadata": {},
   "outputs": [
    {
     "data": {
      "text/html": [
       "<div>\n",
       "<style scoped>\n",
       "    .dataframe tbody tr th:only-of-type {\n",
       "        vertical-align: middle;\n",
       "    }\n",
       "\n",
       "    .dataframe tbody tr th {\n",
       "        vertical-align: top;\n",
       "    }\n",
       "\n",
       "    .dataframe thead th {\n",
       "        text-align: right;\n",
       "    }\n",
       "</style>\n",
       "<table border=\"1\" class=\"dataframe\">\n",
       "  <thead>\n",
       "    <tr style=\"text-align: right;\">\n",
       "      <th></th>\n",
       "      <th>b</th>\n",
       "      <th>c</th>\n",
       "    </tr>\n",
       "  </thead>\n",
       "  <tbody>\n",
       "    <tr>\n",
       "      <th>2021-01-01</th>\n",
       "      <td>-0.633809</td>\n",
       "      <td>0.365227</td>\n",
       "    </tr>\n",
       "    <tr>\n",
       "      <th>2021-01-02</th>\n",
       "      <td>1.161637</td>\n",
       "      <td>-0.803006</td>\n",
       "    </tr>\n",
       "    <tr>\n",
       "      <th>2021-01-03</th>\n",
       "      <td>0.575674</td>\n",
       "      <td>-0.723401</td>\n",
       "    </tr>\n",
       "    <tr>\n",
       "      <th>2021-01-04</th>\n",
       "      <td>1.176879</td>\n",
       "      <td>-0.412652</td>\n",
       "    </tr>\n",
       "    <tr>\n",
       "      <th>2021-01-05</th>\n",
       "      <td>1.940716</td>\n",
       "      <td>0.584026</td>\n",
       "    </tr>\n",
       "    <tr>\n",
       "      <th>2021-01-06</th>\n",
       "      <td>-1.035663</td>\n",
       "      <td>-0.510705</td>\n",
       "    </tr>\n",
       "    <tr>\n",
       "      <th>2021-01-07</th>\n",
       "      <td>1.246238</td>\n",
       "      <td>-0.510814</td>\n",
       "    </tr>\n",
       "    <tr>\n",
       "      <th>2021-01-08</th>\n",
       "      <td>-0.427322</td>\n",
       "      <td>0.726918</td>\n",
       "    </tr>\n",
       "    <tr>\n",
       "      <th>2021-01-09</th>\n",
       "      <td>-0.600356</td>\n",
       "      <td>0.700874</td>\n",
       "    </tr>\n",
       "    <tr>\n",
       "      <th>2021-01-10</th>\n",
       "      <td>0.321951</td>\n",
       "      <td>1.031182</td>\n",
       "    </tr>\n",
       "  </tbody>\n",
       "</table>\n",
       "</div>"
      ],
      "text/plain": [
       "                   b         c\n",
       "2021-01-01 -0.633809  0.365227\n",
       "2021-01-02  1.161637 -0.803006\n",
       "2021-01-03  0.575674 -0.723401\n",
       "2021-01-04  1.176879 -0.412652\n",
       "2021-01-05  1.940716  0.584026\n",
       "2021-01-06 -1.035663 -0.510705\n",
       "2021-01-07  1.246238 -0.510814\n",
       "2021-01-08 -0.427322  0.726918\n",
       "2021-01-09 -0.600356  0.700874\n",
       "2021-01-10  0.321951  1.031182"
      ]
     },
     "execution_count": 42,
     "metadata": {},
     "output_type": "execute_result"
    }
   ],
   "source": [
    "df.loc[:,[\"b\",\"c\"]]"
   ]
  },
  {
   "cell_type": "code",
   "execution_count": 43,
   "metadata": {},
   "outputs": [
    {
     "data": {
      "text/html": [
       "<div>\n",
       "<style scoped>\n",
       "    .dataframe tbody tr th:only-of-type {\n",
       "        vertical-align: middle;\n",
       "    }\n",
       "\n",
       "    .dataframe tbody tr th {\n",
       "        vertical-align: top;\n",
       "    }\n",
       "\n",
       "    .dataframe thead th {\n",
       "        text-align: right;\n",
       "    }\n",
       "</style>\n",
       "<table border=\"1\" class=\"dataframe\">\n",
       "  <thead>\n",
       "    <tr style=\"text-align: right;\">\n",
       "      <th></th>\n",
       "      <th>a</th>\n",
       "      <th>b</th>\n",
       "    </tr>\n",
       "  </thead>\n",
       "  <tbody>\n",
       "    <tr>\n",
       "      <th>2021-01-03</th>\n",
       "      <td>-1.151396</td>\n",
       "      <td>0.575674</td>\n",
       "    </tr>\n",
       "    <tr>\n",
       "      <th>2021-01-04</th>\n",
       "      <td>-0.628977</td>\n",
       "      <td>1.176879</td>\n",
       "    </tr>\n",
       "    <tr>\n",
       "      <th>2021-01-05</th>\n",
       "      <td>1.115872</td>\n",
       "      <td>1.940716</td>\n",
       "    </tr>\n",
       "    <tr>\n",
       "      <th>2021-01-06</th>\n",
       "      <td>0.944919</td>\n",
       "      <td>-1.035663</td>\n",
       "    </tr>\n",
       "  </tbody>\n",
       "</table>\n",
       "</div>"
      ],
      "text/plain": [
       "                   a         b\n",
       "2021-01-03 -1.151396  0.575674\n",
       "2021-01-04 -0.628977  1.176879\n",
       "2021-01-05  1.115872  1.940716\n",
       "2021-01-06  0.944919 -1.035663"
      ]
     },
     "execution_count": 43,
     "metadata": {},
     "output_type": "execute_result"
    }
   ],
   "source": [
    "df.loc[\"20210103\":\"20210106\",[\"a\",\"b\"]]"
   ]
  },
  {
   "cell_type": "code",
   "execution_count": 44,
   "metadata": {},
   "outputs": [
    {
     "data": {
      "text/plain": [
       "c   -0.723401\n",
       "d   -0.487148\n",
       "Name: 2021-01-03 00:00:00, dtype: float64"
      ]
     },
     "execution_count": 44,
     "metadata": {},
     "output_type": "execute_result"
    }
   ],
   "source": [
    "df.loc[\"20210103\", [\"c\",\"d\"]]"
   ]
  },
  {
   "cell_type": "code",
   "execution_count": 45,
   "metadata": {},
   "outputs": [
    {
     "data": {
      "text/plain": [
       "-1.0475811442402923"
      ]
     },
     "execution_count": 45,
     "metadata": {},
     "output_type": "execute_result"
    }
   ],
   "source": [
    "df.loc[dates[1],\"a\"]"
   ]
  },
  {
   "cell_type": "code",
   "execution_count": 47,
   "metadata": {},
   "outputs": [
    {
     "data": {
      "text/plain": [
       "-1.0475811442402923"
      ]
     },
     "execution_count": 47,
     "metadata": {},
     "output_type": "execute_result"
    }
   ],
   "source": [
    "df.at[dates[1],\"a\"] #same with the previous method"
   ]
  },
  {
   "cell_type": "code",
   "execution_count": null,
   "metadata": {},
   "outputs": [],
   "source": []
  }
 ],
 "metadata": {
  "kernelspec": {
   "display_name": "Python 3",
   "language": "python",
   "name": "python3"
  },
  "language_info": {
   "codemirror_mode": {
    "name": "ipython",
    "version": 3
   },
   "file_extension": ".py",
   "mimetype": "text/x-python",
   "name": "python",
   "nbconvert_exporter": "python",
   "pygments_lexer": "ipython3",
   "version": "3.7.3"
  }
 },
 "nbformat": 4,
 "nbformat_minor": 2
}
